{
  "cells": [
    {
      "cell_type": "markdown",
      "metadata": {
        "id": "iW-mnZaZRsWX"
      },
      "source": [
        "*** USE THE CONCEPT OF FUNCTIONS TO SOLVE THE BELOW PROGRAMMING QUESTIONS ***"
      ]
    },
    {
      "cell_type": "markdown",
      "metadata": {
        "id": "gZjDc6eiRsYf"
      },
      "source": [
        "1) Write a Python function that accepts a string and counts the number of upper and lower case letters.\n",
        "\n",
        "Sample String : 'The quick Brow Fox'\n",
        "\n",
        "Expected Output :\n",
        "\n",
        "No. of Upper case characters : 3\n",
        "\n",
        "No. of Lower case Characters : 12"
      ]
    },
    {
      "cell_type": "code",
      "execution_count": 1,
      "metadata": {
        "id": "wGtk-weiR-5t"
      },
      "outputs": [
        {
          "name": "stdout",
          "output_type": "stream",
          "text": [
            "No.of Upper case characters : 3\n",
            "No.of Lower case Characters : 12\n"
          ]
        }
      ],
      "source": [
        "#WRITE YOUR CODE HERE\n",
        "def countLetters(s):\n",
        "    ct = [0,0]\n",
        "    up = \"ABCDEFGHIJKLMNOPQRSTUVWXYZ\"\n",
        "    low = \"abcdefghijklmnopqrstuvwxyz\"\n",
        "    for i in s:\n",
        "        if i in up:\n",
        "            ct[0] += 1\n",
        "        elif i in low:\n",
        "            ct[1] += 1\n",
        "    return ct\n",
        "\n",
        "s = \"The quick Brow Fox\"\n",
        "ct = countLetters(s)\n",
        "print(\"No.of Upper case characters :\",ct[0])\n",
        "print(\"No.of Lower case Characters :\",ct[1])"
      ]
    },
    {
      "cell_type": "markdown",
      "metadata": {
        "id": "bmt7_PqqRsaw"
      },
      "source": [
        "2) Write a Python function that takes a list and returns a new list with distinct elements from the first list.\n",
        "\n",
        "Sample List : [1,2,3,3,3,3,4,5]\n",
        "\n",
        "Unique List : [1, 2, 3, 4, 5]"
      ]
    },
    {
      "cell_type": "code",
      "execution_count": 2,
      "metadata": {
        "id": "Za2S_kbzSQJZ"
      },
      "outputs": [
        {
          "name": "stdout",
          "output_type": "stream",
          "text": [
            "Unique List : [1, 2, 3, 4, 5]\n"
          ]
        }
      ],
      "source": [
        "#WRITE YOUR CODE HERE\n",
        "num_list = [1,2,3,3,3,3,4,5]\n",
        "s = []\n",
        "for i in num_list:\n",
        "    if i not in s:\n",
        "        s.append(i)\n",
        "print(\"Unique List :\",s)"
      ]
    },
    {
      "cell_type": "markdown",
      "metadata": {
        "id": "adx-jfbnRsdC"
      },
      "source": [
        "3) Write a Python function that takes a number as a parameter and checks whether the number is prime or not.\n",
        "\n",
        "Note : A prime number (or a prime) is a natural number greater than 1 and that has no positive divisors other than 1 and itself."
      ]
    },
    {
      "cell_type": "code",
      "execution_count": 3,
      "metadata": {
        "id": "RaBolJpSSa4N"
      },
      "outputs": [
        {
          "name": "stdout",
          "output_type": "stream",
          "text": [
            "23 is a Prime Number\n"
          ]
        }
      ],
      "source": [
        "#WRITE YOUR CODE HERE\n",
        "def isPrime(x):\n",
        "    for i in range(2,(x//2)+1):\n",
        "        if x % i == 0:\n",
        "            return False\n",
        "    return True\n",
        "\n",
        "x = int(input(\"Enter the input number\"))\n",
        "if isPrime(x) == True:\n",
        "    print(x,\"is a Prime Number\")\n",
        "else:\n",
        "    print(x,\"is not a prime number\")"
      ]
    },
    {
      "cell_type": "markdown",
      "metadata": {
        "id": "P2i2bBwIRsfQ"
      },
      "source": [
        "4)Write a Python program to print the even numbers from a given list.\n",
        "\n",
        "Sample List : [1, 2, 3, 4, 5, 6, 7, 8, 9]\n",
        "\n",
        "Expected Result : [2, 4, 6, 8]\n"
      ]
    },
    {
      "cell_type": "code",
      "execution_count": 5,
      "metadata": {
        "id": "32Rk_UCp_pAT"
      },
      "outputs": [
        {
          "name": "stdout",
          "output_type": "stream",
          "text": [
            "[2, 4, 6, 8]\n"
          ]
        }
      ],
      "source": [
        "# WRITE YOUR CODE HERE\n",
        "num_list11 = [1,2,3,4,5,6,7,8,9]\n",
        "num_list2 = []\n",
        "for i in num_list11:\n",
        "    if i % 2 == 0:\n",
        "        num_list2.append(i)\n",
        "print(num_list2)"
      ]
    },
    {
      "cell_type": "markdown",
      "metadata": {
        "id": "kaTTpignRsh7"
      },
      "source": [
        "5) Write a Python function to check whether a string is a pangram or not.\n",
        "\n",
        "Note : Pangrams are words or sentences containing every letter of the alphabet at least once.\n",
        "\n",
        "For example : \"The quick brown fox jumps over the lazy dog\""
      ]
    },
    {
      "cell_type": "code",
      "execution_count": 12,
      "metadata": {
        "id": "EHEntu3P_5s8"
      },
      "outputs": [
        {
          "name": "stdout",
          "output_type": "stream",
          "text": [
            "The given sentence is a pangram\n"
          ]
        }
      ],
      "source": [
        "# WRITE YOUR CODE HERE\n",
        "arr = [False]*26\n",
        "s = \"The quick brown fox jumps over the lazy dog\"\n",
        "s = s.lower()\n",
        "for i in s:\n",
        "    if i == ' ':\n",
        "        continue\n",
        "    arr[ord(i)-97] = True\n",
        "\n",
        "ans = True\n",
        "for i in range(0,26):\n",
        "    if arr[i] == False:\n",
        "        ans = False\n",
        "        break\n",
        "if ans == False:\n",
        "    print(\"The given sentence is not a pangram\")\n",
        "else:\n",
        "    print(\"The given sentence is a pangram\")"
      ]
    }
  ],
  "metadata": {
    "colab": {
      "provenance": []
    },
    "kernelspec": {
      "display_name": "Python 3",
      "name": "python3"
    },
    "language_info": {
      "codemirror_mode": {
        "name": "ipython",
        "version": 3
      },
      "file_extension": ".py",
      "mimetype": "text/x-python",
      "name": "python",
      "nbconvert_exporter": "python",
      "pygments_lexer": "ipython3",
      "version": "3.12.2"
    }
  },
  "nbformat": 4,
  "nbformat_minor": 0
}
